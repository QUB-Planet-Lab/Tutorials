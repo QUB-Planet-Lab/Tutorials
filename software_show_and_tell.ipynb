{
 "cells": [
  {
   "attachments": {},
   "cell_type": "markdown",
   "metadata": {},
   "source": [
    "# Notebook containing handy bits of Python and links to various pieces of useful software"
   ]
  },
  {
   "attachments": {},
   "cell_type": "markdown",
   "metadata": {},
   "source": [
    "### LaTeX table generator (also HTML etc.)\n",
    "\n",
    "Useful for creating tables in Latex or HTML with a nice user interface\n",
    "\n",
    "https://www.tablesgenerator.com/latex_tables"
   ]
  },
  {
   "attachments": {},
   "cell_type": "markdown",
   "metadata": {},
   "source": [
    "### Color Oracle\n",
    "\n",
    "Useful for checking if your plots are accessible to those with colour-blindness or seeing how it looks with in greyscale\n",
    "\n",
    "https://colororacle.org/index.html\n",
    "\n",
    "See also: https://www.fabiocrameri.ch/colourmaps/ for cool colourmaps that are also accessible\n"
   ]
  }
 ],
 "metadata": {
  "language_info": {
   "name": "python"
  },
  "orig_nbformat": 4
 },
 "nbformat": 4,
 "nbformat_minor": 2
}
