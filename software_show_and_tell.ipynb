{
 "cells": [
  {
   "cell_type": "markdown",
   "metadata": {},
   "source": [
    "# Notebook containing handy bits of Python and links to various pieces of useful software"
   ]
  },
  {
   "cell_type": "markdown",
   "metadata": {},
   "source": [
    "### LaTeX table generator (also HTML etc.)\n",
    "\n",
    "Useful for creating tables in Latex or HTML with a nice user interface\n",
    "\n",
    "https://www.tablesgenerator.com/latex_tables"
   ]
  },
  {
   "cell_type": "markdown",
   "metadata": {},
   "source": [
    "### Color Oracle\n",
    "\n",
    "Useful for checking if your plots are accessible to those with colour-blindness or seeing how it looks with in greyscale\n",
    "\n",
    "https://colororacle.org/index.html\n",
    "\n",
    "See also: https://www.fabiocrameri.ch/colourmaps/ for cool colourmaps that are also accessible\n"
   ]
  },
  {
   "cell_type": "markdown",
   "metadata": {},
   "source": [
    "### Meeting Scheduling Alternative to Doodle\n",
    "\n",
    "Lettuce Meet: https://lettucemeet.com/\n",
    "\n"
   ]
  },
  {
   "cell_type": "markdown",
   "metadata": {},
   "source": [
    "### Toggl Track\n",
    "\n",
    "A work-time tracker with useful statistics to show you just what you've been working on and for how long. The paid version comes with a lot of useless bells and whistles for organisational use: the free version is fine.\n",
    "\n",
    "https://toggl.com/track/"
   ]
  },
  {
   "cell_type": "code",
   "execution_count": null,
   "metadata": {},
   "outputs": [],
   "source": []
  }
 ],
 "metadata": {
  "kernelspec": {
   "display_name": "Python 3 (ipykernel)",
   "language": "python",
   "name": "python3"
  },
  "language_info": {
   "codemirror_mode": {
    "name": "ipython",
    "version": 3
   },
   "file_extension": ".py",
   "mimetype": "text/x-python",
   "name": "python",
   "nbconvert_exporter": "python",
   "pygments_lexer": "ipython3",
   "version": "3.7.11"
  }
 },
 "nbformat": 4,
 "nbformat_minor": 2
}
