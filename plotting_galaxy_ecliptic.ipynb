{
 "cells": [
  {
   "cell_type": "code",
   "execution_count": null,
   "id": "b88654bf",
   "metadata": {},
   "outputs": [],
   "source": [
    "from astropy import units as u\n",
    "from astropy.coordinates import SkyCoord\n",
    "from astropy.coordinates.builtin_frames import HeliocentricTrueEcliptic\n",
    "from astropy.coordinates import BarycentricTrueEcliptic\n",
    "from astropy.coordinates import ICRS\n",
    "from astropy.coordinates import FK5\n",
    "import numpy as np\n",
    "import matplotlib.pyplot as plt\n",
    "from astropy.time import Time\n",
    "%matplotlib notebook"
   ]
  },
  {
   "cell_type": "markdown",
   "id": "e722e472",
   "metadata": {},
   "source": [
    "The **ICRS** frame is centered at the Solar System barycenter. It uses radio sources so it highly accurate.  It is aligned close to the mean equator and dynamical equinox of J2000.0 for continuity with previous fundamental reference systems.\n",
    "\n",
    "**J2000** refers to the epoch at of 12 PM on Jan, 1, 2000. We use this as the typical epoch for observations these days. \n",
    "\n",
    "**FK5** is part of the “Catalogue of Fundamental Stars” and is the 5th catalog/refinement of the reference frame. Comes from optical sources. \n",
    "\n",
    "\n",
    "Other than extremely accurate astrometry (fractions of an arcsec), FK5 and ICRS are essentially identical. \"The orientation of the ICRS axes is consistent with the equator and equinox of J2000.0 represented by the FK5, within the errors of the latter... Because of its consistency with previous reference systems, implementation of the ICRS will be transparent to any applications with accuracy requirements of no better than 0.1 arcseconds near\n",
    "epoch J2000.0.\"(Kaplan et al. 2005; https://ui.adsabs.harvard.edu/abs/2005USNOC.179.....K/abstract)\n",
    "\n",
    "From the astropy documentaton: \"If you’re looking for **J2000** coordinates, and aren’t sure if you want to use this or **FK5**, you probably want to use **ICRS**. It’s more well-defined as a catalog coordinate and is an inertial system, and is very close (within tens of milliarcseconds) to J2000 equatorial.\" (https://docs.astropy.org/en/stable/api/astropy.coordinates.ICRS.html)\n"
   ]
  },
  {
   "cell_type": "markdown",
   "id": "4470653b",
   "metadata": {},
   "source": [
    "Let's set up the center of the galactic plane and +/- 10 degrees"
   ]
  },
  {
   "cell_type": "code",
   "execution_count": null,
   "id": "866b8526",
   "metadata": {},
   "outputs": [],
   "source": [
    "gc = SkyCoord(l=np.arange(360)*u.degree, b=0*u.degree, frame='galactic')\n",
    "g_10deg = SkyCoord(l=np.arange(360)*u.degree, b=10*u.degree, frame='galactic')\n",
    "g_neg_10deg = SkyCoord(l=np.arange(360)*u.degree, b=-10*u.degree, frame='galactic')"
   ]
  },
  {
   "cell_type": "code",
   "execution_count": null,
   "id": "d4d8d4fc",
   "metadata": {
    "scrolled": false
   },
   "outputs": [],
   "source": [
    "gc[2].icrs"
   ]
  },
  {
   "cell_type": "code",
   "execution_count": null,
   "id": "9f3b19fb",
   "metadata": {
    "scrolled": true
   },
   "outputs": [],
   "source": [
    "gc[2].fk5"
   ]
  },
  {
   "cell_type": "markdown",
   "id": "4035d872",
   "metadata": {},
   "source": [
    "See, very litte difference between the ICRS and FK5"
   ]
  },
  {
   "cell_type": "markdown",
   "id": "f4b9e63f",
   "metadata": {},
   "source": [
    "Let's get the ecliptic and +/- 10 degrees"
   ]
  },
  {
   "cell_type": "code",
   "execution_count": null,
   "id": "96cc2364",
   "metadata": {
    "scrolled": false
   },
   "outputs": [],
   "source": [
    "ecliptic=SkyCoord(lon=np.arange(360)*u.deg, lat=0*u.deg,frame=\"barycentrictrueecliptic\")\n",
    "ecliptic_10_deg=SkyCoord(lon=np.arange(360)*u.deg, lat=10*u.deg,frame=\"barycentrictrueecliptic\")\n",
    "ecliptic_neg_10_deg=SkyCoord(lon=np.arange(360)*u.deg, lat=-10*u.deg,frame=\"barycentrictrueecliptic\")\n",
    "\n",
    "\n",
    "ecliptic[2].icrs"
   ]
  },
  {
   "cell_type": "markdown",
   "id": "148c5b24",
   "metadata": {},
   "source": [
    "Let's plot in Cartesian map the right acension and declination in ICRS of the ecliptic plane and the galactic plane"
   ]
  },
  {
   "cell_type": "code",
   "execution_count": null,
   "id": "242529f0",
   "metadata": {},
   "outputs": [],
   "source": [
    "f=plt.figure()\n",
    "# plot the galactic plane\n",
    "ra=gc.icrs.ra\n",
    "w=np.argsort(ra)\n",
    "plt.plot(gc[w].icrs.ra.hour, gc[w].icrs.dec, '--',color='blue')\n",
    "ra=g_10deg.icrs.ra\n",
    "w=np.argsort(ra)\n",
    "plt.plot(g_10deg[w].icrs.ra.hour, g_10deg[w].icrs.dec, '--', color='blue')\n",
    "ra=g_neg_10deg.icrs.ra\n",
    "w=np.argsort(ra)\n",
    "plt.plot(g_neg_10deg[w].icrs.ra.hour, g_neg_10deg[w].icrs.dec, '--', color='blue')\n",
    "\n",
    "# plot the ecliptic plane\n",
    "ra=ecliptic.icrs.ra\n",
    "w=np.argsort(ra)\n",
    "plt.plot(ecliptic[w].icrs.ra.hour, ecliptic[w].icrs.dec, '-', color='red')\n",
    "ra=ecliptic_10_deg.icrs.ra\n",
    "w=np.argsort(ra)\n",
    "plt.plot(ecliptic_10_deg[w].icrs.ra.hour, ecliptic_10_deg[w].icrs.dec, '-', color='red')\n",
    "ra=ecliptic_neg_10_deg.icrs.ra\n",
    "w=np.argsort(ra)\n",
    "plt.plot(ecliptic_neg_10_deg[w].icrs.ra.hour, ecliptic_neg_10_deg[w].icrs.dec, '-', color='red')\n",
    "\n",
    "\n",
    "plt.grid()\n",
    "plt.xlim(0,24)\n",
    "plt.ylim(-90,90)"
   ]
  },
  {
   "cell_type": "markdown",
   "id": "4a9357ed",
   "metadata": {},
   "source": [
    "The way most planetary astronomers plot it - Looking from in the inside outward"
   ]
  },
  {
   "cell_type": "markdown",
   "id": "99985c5c",
   "metadata": {},
   "source": [
    "Let's plot on a sphere. Some one thing to deal with is that we're plotting from inside the sphere looking outward, so we need to do some extra manipulation to get this to look correct. See https://astronomy.stackexchange.com/questions/39404/how-to-plot-celestial-equator-in-galactic-coordinates-why-does-my-plot-appear and https://astronomy.stackexchange.com/questions/36246/why-does-east-and-west-appear-to-be-mirrored-in-the-celestial-sphere"
   ]
  },
  {
   "cell_type": "code",
   "execution_count": null,
   "id": "0c8adf1e",
   "metadata": {},
   "outputs": [],
   "source": [
    "f=plt.figure()\n",
    "\n",
    "ax=plt.subplot(111, projection=\"aitoff\")\n",
    "\n",
    "# plot the galactic plane\n",
    "\n",
    "ra=gc.icrs.ra.radian - np.pi\n",
    "w=np.argsort(ra)\n",
    "plt.title(\"ICRS\")\n",
    "ax.plot(gc[w].icrs.ra.radian- np.pi, gc[w].icrs.dec.radian, '--',color='blue')\n",
    "\n",
    "ra=g_10deg.icrs.ra.radian - np.pi\n",
    "w=np.argsort(ra)\n",
    "ax.plot(g_10deg[w].icrs.ra.radian- np.pi, g_10deg[w].icrs.dec.radian, '--',color='blue')\n",
    "ra=g_neg_10deg.icrs.ra.radian - np.pi\n",
    "w=np.argsort(ra)\n",
    "ax.plot(g_neg_10deg[w].icrs.ra.radian- np.pi, g_neg_10deg[w].icrs.dec.radian, '--',color='blue')\n",
    "\n",
    "# plot the ecliptic plane\n",
    "ra=ecliptic.icrs.ra.radian- np.pi\n",
    "w=np.argsort(ra)\n",
    "ax.plot(ecliptic[w].icrs.ra.radian- np.pi, ecliptic[w].icrs.dec.radian, '-',color='red')\n",
    "ax.grid()\n"
   ]
  },
  {
   "cell_type": "markdown",
   "id": "ea762bec",
   "metadata": {},
   "source": [
    "The way cosmologists plot it - Looking from outward to the inside "
   ]
  },
  {
   "cell_type": "code",
   "execution_count": null,
   "id": "3b82bd76",
   "metadata": {},
   "outputs": [],
   "source": [
    "f=plt.figure()\n",
    "\n",
    "ax=plt.subplot(111, projection=\"aitoff\")\n",
    "\n",
    "# plot the galactic plane\n",
    "\n",
    "ra=-gc.icrs.ra.wrap_at(180*u.deg).radian\n",
    "w=np.argsort(ra)\n",
    "plt.title(\"ICRS\")\n",
    "ax.plot(-gc[w].icrs.ra.wrap_at(180*u.deg).radian, gc[w].icrs.dec.radian, '--',color='blue')\n",
    "\n",
    "ra=-g_10deg.icrs.ra.wrap_at(180*u.deg).radian\n",
    "w=np.argsort(ra)\n",
    "ax.plot(-g_10deg[w].icrs.ra.wrap_at(180*u.deg).radian, g_10deg[w].icrs.dec.radian, '--',color='blue')\n",
    "ra=-g_neg_10deg.icrs.ra.wrap_at(180*u.deg).radian\n",
    "w=np.argsort(ra)\n",
    "ax.plot(-g_neg_10deg[w].icrs.ra.wrap_at(180*u.deg).radian, g_neg_10deg[w].icrs.dec.radian, '--',color='blue')\n",
    "\n",
    "# plot the ecliptic plane\n",
    "ra=-ecliptic.icrs.ra.wrap_at(180*u.deg).radian\n",
    "w=np.argsort(ra)\n",
    "ax.plot(-ecliptic[w].icrs.ra.wrap_at(180*u.deg).radian, ecliptic[w].icrs.dec.radian, '-',color='red')\n",
    "ax.set_yticklabels([])\n",
    "ax.set_xticklabels([])\n",
    "ax.grid()\n"
   ]
  },
  {
   "cell_type": "code",
   "execution_count": null,
   "id": "941d2e76",
   "metadata": {},
   "outputs": [],
   "source": []
  }
 ],
 "metadata": {
  "kernelspec": {
   "display_name": "Python 3 (ipykernel)",
   "language": "python",
   "name": "python3"
  },
  "language_info": {
   "codemirror_mode": {
    "name": "ipython",
    "version": 3
   },
   "file_extension": ".py",
   "mimetype": "text/x-python",
   "name": "python",
   "nbconvert_exporter": "python",
   "pygments_lexer": "ipython3",
   "version": "3.8.11"
  }
 },
 "nbformat": 4,
 "nbformat_minor": 5
}
